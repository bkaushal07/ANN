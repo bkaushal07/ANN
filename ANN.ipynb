{
 "cells": [
  {
   "cell_type": "code",
   "execution_count": 1,
   "metadata": {},
   "outputs": [],
   "source": [
    "import pandas as pd\n",
    "import numpy as np\n",
    "import matplotlib.pyplot as plt"
   ]
  },
  {
   "cell_type": "code",
   "execution_count": 2,
   "metadata": {},
   "outputs": [],
   "source": [
    "#importing dataset\n",
    "dataset=pd.read_csv('Churn_Modelling.csv')\n",
    "X = dataset.iloc[:,3:13] #input features - independent features, not using \"row number, custid and surname\"\n",
    "y = dataset.iloc[:,-1] #output - independent features"
   ]
  },
  {
   "cell_type": "code",
   "execution_count": 3,
   "metadata": {},
   "outputs": [],
   "source": [
    "#creating dummy variables for categorical features\n",
    "geography = pd.get_dummies(X[\"Geography\"]) #have 3 variables in this category so not dropping first column\n",
    "gender = pd.get_dummies(X[\"Gender\"], drop_first = True) #have 2 variables in this category so dropping isnt a problem"
   ]
  },
  {
   "cell_type": "code",
   "execution_count": 4,
   "metadata": {},
   "outputs": [],
   "source": [
    "#concatenating categorical varaibles(dataframes) with dataset\n",
    "X = pd.concat([X,geography,gender],axis=1)"
   ]
  },
  {
   "cell_type": "code",
   "execution_count": 5,
   "metadata": {},
   "outputs": [],
   "source": [
    "#dropping original columns(unnecessary since we concatenated categorical)\n",
    "X = X.drop(['Geography','Gender'],axis=1)"
   ]
  },
  {
   "cell_type": "code",
   "execution_count": 6,
   "metadata": {},
   "outputs": [],
   "source": [
    "#Splitting the dataset\n",
    "from sklearn.model_selection import train_test_split\n",
    "X_train, X_test, y_train, y_test = train_test_split(X, y, test_size = 0.2, random_state=0)"
   ]
  },
  {
   "cell_type": "code",
   "execution_count": 7,
   "metadata": {},
   "outputs": [
    {
     "name": "stderr",
     "output_type": "stream",
     "text": [
      "D:\\Anaconda3\\lib\\site-packages\\sklearn\\preprocessing\\data.py:645: DataConversionWarning: Data with input dtype uint8, int64, float64 were all converted to float64 by StandardScaler.\n",
      "  return self.partial_fit(X, y)\n",
      "D:\\Anaconda3\\lib\\site-packages\\sklearn\\base.py:464: DataConversionWarning: Data with input dtype uint8, int64, float64 were all converted to float64 by StandardScaler.\n",
      "  return self.fit(X, **fit_params).transform(X)\n",
      "D:\\Anaconda3\\lib\\site-packages\\ipykernel_launcher.py:5: DataConversionWarning: Data with input dtype uint8, int64, float64 were all converted to float64 by StandardScaler.\n",
      "  \"\"\"\n"
     ]
    }
   ],
   "source": [
    "#feature scaling(similar to normalizing)\n",
    "from sklearn.preprocessing import StandardScaler\n",
    "sc = StandardScaler()\n",
    "X_train = sc.fit_transform(X_train)\n",
    "X_test = sc.transform(X_test)"
   ]
  },
  {
   "cell_type": "code",
   "execution_count": null,
   "metadata": {},
   "outputs": [],
   "source": []
  },
  {
   "cell_type": "code",
   "execution_count": 8,
   "metadata": {},
   "outputs": [
    {
     "name": "stderr",
     "output_type": "stream",
     "text": [
      "Using TensorFlow backend.\n"
     ]
    }
   ],
   "source": [
    "import keras\n",
    "from keras.models import Sequential\n",
    "from keras.layers import Dense\n",
    "from keras.layers import LeakyReLU,PReLU,ELU\n",
    "from keras.layers import Dropout"
   ]
  },
  {
   "cell_type": "code",
   "execution_count": 9,
   "metadata": {},
   "outputs": [],
   "source": [
    "#initialising the ANN\n",
    "classifier = Sequential()"
   ]
  },
  {
   "cell_type": "code",
   "execution_count": 10,
   "metadata": {},
   "outputs": [],
   "source": [
    "#adding input layer and first hidden layer\n",
    "#classifier.add(Dense(output_dim = 6, init = 'he_uniform', activation='relu', input_dim = 11)) ---> keras 1.0\n",
    "classifier.add(Dense(units=6, activation=\"relu\", input_dim=12, kernel_initializer=\"he_uniform\")) # so ip layer has 12 neurons and first hidden layer has 6 hidden neurons"
   ]
  },
  {
   "cell_type": "code",
   "execution_count": 11,
   "metadata": {},
   "outputs": [],
   "source": [
    "#adding second hidden layer\n",
    "classifier.add(Dense(units=6, kernel_initializer = 'he_uniform', activation = 'relu'))"
   ]
  },
  {
   "cell_type": "code",
   "execution_count": 12,
   "metadata": {},
   "outputs": [],
   "source": [
    "#adding output layer\n",
    "classifier.add(Dense(units = 1, kernel_initializer = 'glorot_uniform', activation = 'sigmoid'))"
   ]
  },
  {
   "cell_type": "code",
   "execution_count": 13,
   "metadata": {},
   "outputs": [
    {
     "name": "stdout",
     "output_type": "stream",
     "text": [
      "Model: \"sequential_1\"\n",
      "_________________________________________________________________\n",
      "Layer (type)                 Output Shape              Param #   \n",
      "=================================================================\n",
      "dense_1 (Dense)              (None, 6)                 78        \n",
      "_________________________________________________________________\n",
      "dense_2 (Dense)              (None, 6)                 42        \n",
      "_________________________________________________________________\n",
      "dense_3 (Dense)              (None, 1)                 7         \n",
      "=================================================================\n",
      "Total params: 127\n",
      "Trainable params: 127\n",
      "Non-trainable params: 0\n",
      "_________________________________________________________________\n"
     ]
    }
   ],
   "source": [
    "classifier.summary()"
   ]
  },
  {
   "cell_type": "code",
   "execution_count": 14,
   "metadata": {},
   "outputs": [
    {
     "name": "stdout",
     "output_type": "stream",
     "text": [
      "WARNING:tensorflow:From D:\\Anaconda3\\lib\\site-packages\\tensorflow\\python\\ops\\nn_impl.py:180: add_dispatch_support.<locals>.wrapper (from tensorflow.python.ops.array_ops) is deprecated and will be removed in a future version.\n",
      "Instructions for updating:\n",
      "Use tf.where in 2.0, which has the same broadcast rule as np.where\n"
     ]
    }
   ],
   "source": [
    "#compiling the ANN\n",
    "classifier.compile(optimizer= 'Adamax', loss = 'binary_crossentropy', metrics = ['accuracy'])"
   ]
  },
  {
   "cell_type": "code",
   "execution_count": 15,
   "metadata": {},
   "outputs": [
    {
     "name": "stderr",
     "output_type": "stream",
     "text": [
      "D:\\Anaconda3\\lib\\site-packages\\ipykernel_launcher.py:2: UserWarning: The `nb_epoch` argument in `fit` has been renamed `epochs`.\n",
      "  \n"
     ]
    },
    {
     "name": "stdout",
     "output_type": "stream",
     "text": [
      "WARNING:tensorflow:From D:\\Anaconda3\\lib\\site-packages\\keras\\backend\\tensorflow_backend.py:422: The name tf.global_variables is deprecated. Please use tf.compat.v1.global_variables instead.\n",
      "\n",
      "Train on 5359 samples, validate on 2641 samples\n",
      "Epoch 1/100\n",
      "5359/5359 [==============================] - 1s 128us/step - loss: 0.6561 - accuracy: 0.6320 - val_loss: 0.5052 - val_accuracy: 0.7955\n",
      "Epoch 2/100\n",
      "5359/5359 [==============================] - 1s 106us/step - loss: 0.4839 - accuracy: 0.7962 - val_loss: 0.4802 - val_accuracy: 0.7955\n",
      "Epoch 3/100\n",
      "5359/5359 [==============================] - 1s 102us/step - loss: 0.4642 - accuracy: 0.7962 - val_loss: 0.4634 - val_accuracy: 0.7955\n",
      "Epoch 4/100\n",
      "5359/5359 [==============================] - 1s 104us/step - loss: 0.4477 - accuracy: 0.7964 - val_loss: 0.4484 - val_accuracy: 0.7978\n",
      "Epoch 5/100\n",
      "5359/5359 [==============================] - ETA: 0s - loss: 0.4310 - accuracy: 0.80 - 1s 103us/step - loss: 0.4319 - accuracy: 0.8037 - val_loss: 0.4360 - val_accuracy: 0.8069\n",
      "Epoch 6/100\n",
      "5359/5359 [==============================] - 1s 102us/step - loss: 0.4186 - accuracy: 0.8097 - val_loss: 0.4260 - val_accuracy: 0.8092\n",
      "Epoch 7/100\n",
      "5359/5359 [==============================] - 1s 102us/step - loss: 0.4078 - accuracy: 0.8156 - val_loss: 0.4179 - val_accuracy: 0.8164\n",
      "Epoch 8/100\n",
      "5359/5359 [==============================] - 1s 112us/step - loss: 0.3991 - accuracy: 0.8220 - val_loss: 0.4112 - val_accuracy: 0.8217\n",
      "Epoch 9/100\n",
      "5359/5359 [==============================] - 1s 103us/step - loss: 0.3908 - accuracy: 0.8311 - val_loss: 0.4046 - val_accuracy: 0.8262\n",
      "Epoch 10/100\n",
      "5359/5359 [==============================] - 1s 102us/step - loss: 0.3826 - accuracy: 0.8378 - val_loss: 0.3979 - val_accuracy: 0.8311\n",
      "Epoch 11/100\n",
      "5359/5359 [==============================] - 1s 109us/step - loss: 0.3749 - accuracy: 0.8423 - val_loss: 0.3936 - val_accuracy: 0.8345\n",
      "Epoch 12/100\n",
      "5359/5359 [==============================] - 1s 107us/step - loss: 0.3696 - accuracy: 0.8446 - val_loss: 0.3893 - val_accuracy: 0.8372\n",
      "Epoch 13/100\n",
      "5359/5359 [==============================] - 1s 107us/step - loss: 0.3653 - accuracy: 0.8464 - val_loss: 0.3851 - val_accuracy: 0.8379\n",
      "Epoch 14/100\n",
      "5359/5359 [==============================] - 1s 110us/step - loss: 0.3612 - accuracy: 0.8502 - val_loss: 0.3819 - val_accuracy: 0.8402\n",
      "Epoch 15/100\n",
      "5359/5359 [==============================] - 1s 108us/step - loss: 0.3581 - accuracy: 0.8503 - val_loss: 0.3811 - val_accuracy: 0.8425\n",
      "Epoch 16/100\n",
      "5359/5359 [==============================] - 1s 106us/step - loss: 0.3562 - accuracy: 0.8490 - val_loss: 0.3782 - val_accuracy: 0.8413\n",
      "Epoch 17/100\n",
      "5359/5359 [==============================] - 1s 107us/step - loss: 0.3540 - accuracy: 0.8535 - val_loss: 0.3774 - val_accuracy: 0.8421\n",
      "Epoch 18/100\n",
      "5359/5359 [==============================] - 1s 116us/step - loss: 0.3523 - accuracy: 0.8543 - val_loss: 0.3759 - val_accuracy: 0.8436\n",
      "Epoch 19/100\n",
      "5359/5359 [==============================] - 1s 102us/step - loss: 0.3506 - accuracy: 0.8543 - val_loss: 0.3753 - val_accuracy: 0.8421\n",
      "Epoch 20/100\n",
      "5359/5359 [==============================] - ETA: 0s - loss: 0.3493 - accuracy: 0.85 - 1s 102us/step - loss: 0.3495 - accuracy: 0.8569 - val_loss: 0.3742 - val_accuracy: 0.8451\n",
      "Epoch 21/100\n",
      "5359/5359 [==============================] - ETA: 0s - loss: 0.3488 - accuracy: 0.85 - 1s 100us/step - loss: 0.3483 - accuracy: 0.8561 - val_loss: 0.3738 - val_accuracy: 0.8451\n",
      "Epoch 22/100\n",
      "5359/5359 [==============================] - 1s 105us/step - loss: 0.3475 - accuracy: 0.8556 - val_loss: 0.3729 - val_accuracy: 0.8459\n",
      "Epoch 23/100\n",
      "5359/5359 [==============================] - 1s 102us/step - loss: 0.3458 - accuracy: 0.8565 - val_loss: 0.3737 - val_accuracy: 0.8474\n",
      "Epoch 24/100\n",
      "5359/5359 [==============================] - 1s 99us/step - loss: 0.3454 - accuracy: 0.8574 - val_loss: 0.3715 - val_accuracy: 0.8497\n",
      "Epoch 25/100\n",
      "5359/5359 [==============================] - 1s 104us/step - loss: 0.3452 - accuracy: 0.8578 - val_loss: 0.3709 - val_accuracy: 0.8501\n",
      "Epoch 26/100\n",
      "5359/5359 [==============================] - 1s 101us/step - loss: 0.3446 - accuracy: 0.8576 - val_loss: 0.3700 - val_accuracy: 0.8497\n",
      "Epoch 27/100\n",
      "5359/5359 [==============================] - ETA: 0s - loss: 0.3439 - accuracy: 0.85 - 1s 100us/step - loss: 0.3439 - accuracy: 0.8580 - val_loss: 0.3695 - val_accuracy: 0.8512\n",
      "Epoch 28/100\n",
      "5359/5359 [==============================] - 1s 99us/step - loss: 0.3437 - accuracy: 0.8595 - val_loss: 0.3693 - val_accuracy: 0.8501\n",
      "Epoch 29/100\n",
      "5359/5359 [==============================] - 1s 101us/step - loss: 0.3432 - accuracy: 0.8602 - val_loss: 0.3683 - val_accuracy: 0.8516\n",
      "Epoch 30/100\n",
      "5359/5359 [==============================] - 1s 100us/step - loss: 0.3426 - accuracy: 0.8602 - val_loss: 0.3684 - val_accuracy: 0.8504\n",
      "Epoch 31/100\n",
      "5359/5359 [==============================] - 1s 101us/step - loss: 0.3419 - accuracy: 0.8615 - val_loss: 0.3677 - val_accuracy: 0.8508\n",
      "Epoch 32/100\n",
      "5359/5359 [==============================] - 1s 98us/step - loss: 0.3419 - accuracy: 0.8600 - val_loss: 0.3673 - val_accuracy: 0.8519\n",
      "Epoch 33/100\n",
      "5359/5359 [==============================] - 1s 101us/step - loss: 0.3413 - accuracy: 0.8600 - val_loss: 0.3667 - val_accuracy: 0.8527\n",
      "Epoch 34/100\n",
      "5359/5359 [==============================] - 1s 104us/step - loss: 0.3408 - accuracy: 0.8628 - val_loss: 0.3667 - val_accuracy: 0.8504\n",
      "Epoch 35/100\n",
      "5359/5359 [==============================] - 1s 100us/step - loss: 0.3404 - accuracy: 0.8625 - val_loss: 0.3662 - val_accuracy: 0.8523\n",
      "Epoch 36/100\n",
      "5359/5359 [==============================] - 1s 99us/step - loss: 0.3404 - accuracy: 0.8608 - val_loss: 0.3655 - val_accuracy: 0.8531\n",
      "Epoch 37/100\n",
      "5359/5359 [==============================] - 1s 100us/step - loss: 0.3397 - accuracy: 0.8621 - val_loss: 0.3650 - val_accuracy: 0.8527\n",
      "Epoch 38/100\n",
      "5359/5359 [==============================] - 1s 99us/step - loss: 0.3396 - accuracy: 0.8627 - val_loss: 0.3648 - val_accuracy: 0.8546\n",
      "Epoch 39/100\n",
      "5359/5359 [==============================] - 1s 96us/step - loss: 0.3394 - accuracy: 0.8623 - val_loss: 0.3651 - val_accuracy: 0.8531\n",
      "Epoch 40/100\n",
      "5359/5359 [==============================] - 1s 99us/step - loss: 0.3390 - accuracy: 0.8621 - val_loss: 0.3648 - val_accuracy: 0.8538\n",
      "Epoch 41/100\n",
      "5359/5359 [==============================] - 1s 100us/step - loss: 0.3386 - accuracy: 0.8606 - val_loss: 0.3642 - val_accuracy: 0.8504\n",
      "Epoch 42/100\n",
      "5359/5359 [==============================] - 1s 103us/step - loss: 0.3383 - accuracy: 0.8640 - val_loss: 0.3646 - val_accuracy: 0.8512\n",
      "Epoch 43/100\n",
      "5359/5359 [==============================] - 1s 98us/step - loss: 0.3378 - accuracy: 0.8621 - val_loss: 0.3635 - val_accuracy: 0.8519\n",
      "Epoch 44/100\n",
      "5359/5359 [==============================] - 1s 104us/step - loss: 0.3378 - accuracy: 0.8627 - val_loss: 0.3661 - val_accuracy: 0.8504\n",
      "Epoch 45/100\n",
      "5359/5359 [==============================] - 1s 99us/step - loss: 0.3376 - accuracy: 0.8627 - val_loss: 0.3639 - val_accuracy: 0.8519\n",
      "Epoch 46/100\n",
      "5359/5359 [==============================] - ETA: 0s - loss: 0.3357 - accuracy: 0.86 - 1s 102us/step - loss: 0.3377 - accuracy: 0.8638 - val_loss: 0.3629 - val_accuracy: 0.8512\n",
      "Epoch 47/100\n",
      "5359/5359 [==============================] - 1s 97us/step - loss: 0.3374 - accuracy: 0.8628 - val_loss: 0.3628 - val_accuracy: 0.8516\n",
      "Epoch 48/100\n",
      "5359/5359 [==============================] - 1s 97us/step - loss: 0.3369 - accuracy: 0.8617 - val_loss: 0.3629 - val_accuracy: 0.8516\n",
      "Epoch 49/100\n",
      "5359/5359 [==============================] - 1s 98us/step - loss: 0.3369 - accuracy: 0.8627 - val_loss: 0.3629 - val_accuracy: 0.8542\n",
      "Epoch 50/100\n",
      "5359/5359 [==============================] - 1s 99us/step - loss: 0.3369 - accuracy: 0.8636 - val_loss: 0.3623 - val_accuracy: 0.8516\n",
      "Epoch 51/100\n",
      "5359/5359 [==============================] - 1s 99us/step - loss: 0.3365 - accuracy: 0.8640 - val_loss: 0.3619 - val_accuracy: 0.8538\n",
      "Epoch 52/100\n",
      "5359/5359 [==============================] - 1s 99us/step - loss: 0.3368 - accuracy: 0.8642 - val_loss: 0.3626 - val_accuracy: 0.8531\n",
      "Epoch 53/100\n"
     ]
    },
    {
     "name": "stdout",
     "output_type": "stream",
     "text": [
      "5359/5359 [==============================] - 1s 105us/step - loss: 0.3366 - accuracy: 0.8621 - val_loss: 0.3622 - val_accuracy: 0.8523\n",
      "Epoch 54/100\n",
      "5359/5359 [==============================] - 1s 100us/step - loss: 0.3361 - accuracy: 0.8617 - val_loss: 0.3624 - val_accuracy: 0.8531\n",
      "Epoch 55/100\n",
      "5359/5359 [==============================] - 1s 98us/step - loss: 0.3362 - accuracy: 0.8627 - val_loss: 0.3619 - val_accuracy: 0.8523\n",
      "Epoch 56/100\n",
      "5359/5359 [==============================] - 1s 96us/step - loss: 0.3364 - accuracy: 0.8628 - val_loss: 0.3616 - val_accuracy: 0.8535\n",
      "Epoch 57/100\n",
      "5359/5359 [==============================] - 1s 98us/step - loss: 0.3361 - accuracy: 0.8642 - val_loss: 0.3616 - val_accuracy: 0.8546\n",
      "Epoch 58/100\n",
      "5359/5359 [==============================] - 1s 97us/step - loss: 0.3357 - accuracy: 0.8636 - val_loss: 0.3617 - val_accuracy: 0.8531\n",
      "Epoch 59/100\n",
      "5359/5359 [==============================] - ETA: 0s - loss: 0.3354 - accuracy: 0.86 - 1s 103us/step - loss: 0.3360 - accuracy: 0.8630 - val_loss: 0.3611 - val_accuracy: 0.8542\n",
      "Epoch 60/100\n",
      "5359/5359 [==============================] - 1s 98us/step - loss: 0.3356 - accuracy: 0.8634 - val_loss: 0.3610 - val_accuracy: 0.8538\n",
      "Epoch 61/100\n",
      "5359/5359 [==============================] - 1s 98us/step - loss: 0.3356 - accuracy: 0.8628 - val_loss: 0.3612 - val_accuracy: 0.8527\n",
      "Epoch 62/100\n",
      "5359/5359 [==============================] - 1s 99us/step - loss: 0.3355 - accuracy: 0.8634 - val_loss: 0.3613 - val_accuracy: 0.8538\n",
      "Epoch 63/100\n",
      "5359/5359 [==============================] - 1s 102us/step - loss: 0.3352 - accuracy: 0.8634 - val_loss: 0.3619 - val_accuracy: 0.8554\n",
      "Epoch 64/100\n",
      "5359/5359 [==============================] - 1s 101us/step - loss: 0.3354 - accuracy: 0.8627 - val_loss: 0.3605 - val_accuracy: 0.8542\n",
      "Epoch 65/100\n",
      "5359/5359 [==============================] - 1s 96us/step - loss: 0.3352 - accuracy: 0.8630 - val_loss: 0.3611 - val_accuracy: 0.8531\n",
      "Epoch 66/100\n",
      "5359/5359 [==============================] - 1s 99us/step - loss: 0.3352 - accuracy: 0.8619 - val_loss: 0.3607 - val_accuracy: 0.8546\n",
      "Epoch 67/100\n",
      "5359/5359 [==============================] - 1s 96us/step - loss: 0.3350 - accuracy: 0.8656 - val_loss: 0.3621 - val_accuracy: 0.8531\n",
      "Epoch 68/100\n",
      "5359/5359 [==============================] - 1s 99us/step - loss: 0.3347 - accuracy: 0.8655 - val_loss: 0.3612 - val_accuracy: 0.8531\n",
      "Epoch 69/100\n",
      "5359/5359 [==============================] - 1s 107us/step - loss: 0.3352 - accuracy: 0.8619 - val_loss: 0.3601 - val_accuracy: 0.8557\n",
      "Epoch 70/100\n",
      "5359/5359 [==============================] - 1s 98us/step - loss: 0.3347 - accuracy: 0.8649 - val_loss: 0.3599 - val_accuracy: 0.8561\n",
      "Epoch 71/100\n",
      "5359/5359 [==============================] - 1s 99us/step - loss: 0.3350 - accuracy: 0.8630 - val_loss: 0.3604 - val_accuracy: 0.8557\n",
      "Epoch 72/100\n",
      "5359/5359 [==============================] - 1s 105us/step - loss: 0.3346 - accuracy: 0.8643 - val_loss: 0.3603 - val_accuracy: 0.8557\n",
      "Epoch 73/100\n",
      "5359/5359 [==============================] - 1s 97us/step - loss: 0.3349 - accuracy: 0.8632 - val_loss: 0.3596 - val_accuracy: 0.8565\n",
      "Epoch 74/100\n",
      "5359/5359 [==============================] - 1s 98us/step - loss: 0.3345 - accuracy: 0.8632 - val_loss: 0.3591 - val_accuracy: 0.8561\n",
      "Epoch 75/100\n",
      "5359/5359 [==============================] - 1s 98us/step - loss: 0.3347 - accuracy: 0.8647 - val_loss: 0.3595 - val_accuracy: 0.8573\n",
      "Epoch 76/100\n",
      "5359/5359 [==============================] - 1s 97us/step - loss: 0.3341 - accuracy: 0.8638 - val_loss: 0.3592 - val_accuracy: 0.8561\n",
      "Epoch 77/100\n",
      "5359/5359 [==============================] - 1s 99us/step - loss: 0.3338 - accuracy: 0.8649 - val_loss: 0.3595 - val_accuracy: 0.8565\n",
      "Epoch 78/100\n",
      "5359/5359 [==============================] - ETA: 0s - loss: 0.3317 - accuracy: 0.86 - 1s 101us/step - loss: 0.3336 - accuracy: 0.8653 - val_loss: 0.3615 - val_accuracy: 0.8512\n",
      "Epoch 79/100\n",
      "5359/5359 [==============================] - 1s 99us/step - loss: 0.3342 - accuracy: 0.8638 - val_loss: 0.3590 - val_accuracy: 0.8573\n",
      "Epoch 80/100\n",
      "5359/5359 [==============================] - 1s 98us/step - loss: 0.3339 - accuracy: 0.8615 - val_loss: 0.3586 - val_accuracy: 0.8550\n",
      "Epoch 81/100\n",
      "5359/5359 [==============================] - 1s 105us/step - loss: 0.3336 - accuracy: 0.8640 - val_loss: 0.3598 - val_accuracy: 0.8550\n",
      "Epoch 82/100\n",
      "5359/5359 [==============================] - 1s 98us/step - loss: 0.3335 - accuracy: 0.8658 - val_loss: 0.3588 - val_accuracy: 0.8565\n",
      "Epoch 83/100\n",
      "5359/5359 [==============================] - 1s 97us/step - loss: 0.3336 - accuracy: 0.8660 - val_loss: 0.3579 - val_accuracy: 0.8565\n",
      "Epoch 84/100\n",
      "5359/5359 [==============================] - 1s 97us/step - loss: 0.3334 - accuracy: 0.8638 - val_loss: 0.3576 - val_accuracy: 0.8576\n",
      "Epoch 85/100\n",
      "5359/5359 [==============================] - 1s 97us/step - loss: 0.3331 - accuracy: 0.8649 - val_loss: 0.3574 - val_accuracy: 0.8561\n",
      "Epoch 86/100\n",
      "5359/5359 [==============================] - 1s 99us/step - loss: 0.3332 - accuracy: 0.8651 - val_loss: 0.3576 - val_accuracy: 0.8554\n",
      "Epoch 87/100\n",
      "5359/5359 [==============================] - 1s 99us/step - loss: 0.3331 - accuracy: 0.8623 - val_loss: 0.3577 - val_accuracy: 0.8573\n",
      "Epoch 88/100\n",
      "5359/5359 [==============================] - 1s 98us/step - loss: 0.3329 - accuracy: 0.8649 - val_loss: 0.3567 - val_accuracy: 0.8550\n",
      "Epoch 89/100\n",
      "5359/5359 [==============================] - 1s 104us/step - loss: 0.3330 - accuracy: 0.8640 - val_loss: 0.3570 - val_accuracy: 0.8554\n",
      "Epoch 90/100\n",
      "5359/5359 [==============================] - 1s 97us/step - loss: 0.3327 - accuracy: 0.8655 - val_loss: 0.3578 - val_accuracy: 0.8588\n",
      "Epoch 91/100\n",
      "5359/5359 [==============================] - 1s 104us/step - loss: 0.3322 - accuracy: 0.8645 - val_loss: 0.3570 - val_accuracy: 0.8569\n",
      "Epoch 92/100\n",
      "5359/5359 [==============================] - 1s 96us/step - loss: 0.3325 - accuracy: 0.8666 - val_loss: 0.3566 - val_accuracy: 0.8546\n",
      "Epoch 93/100\n",
      "5359/5359 [==============================] - 1s 101us/step - loss: 0.3327 - accuracy: 0.8649 - val_loss: 0.3565 - val_accuracy: 0.8569\n",
      "Epoch 94/100\n",
      "5359/5359 [==============================] - 1s 97us/step - loss: 0.3322 - accuracy: 0.8640 - val_loss: 0.3569 - val_accuracy: 0.8573\n",
      "Epoch 95/100\n",
      "5359/5359 [==============================] - 1s 97us/step - loss: 0.3323 - accuracy: 0.8656 - val_loss: 0.3564 - val_accuracy: 0.8546\n",
      "Epoch 96/100\n",
      "5359/5359 [==============================] - 1s 97us/step - loss: 0.3322 - accuracy: 0.8643 - val_loss: 0.3562 - val_accuracy: 0.8554\n",
      "Epoch 97/100\n",
      "5359/5359 [==============================] - ETA: 0s - loss: 0.3313 - accuracy: 0.86 - 1s 102us/step - loss: 0.3316 - accuracy: 0.8647 - val_loss: 0.3572 - val_accuracy: 0.8573\n",
      "Epoch 98/100\n",
      "5359/5359 [==============================] - 1s 98us/step - loss: 0.3322 - accuracy: 0.8632 - val_loss: 0.3570 - val_accuracy: 0.8557\n",
      "Epoch 99/100\n",
      "5359/5359 [==============================] - 1s 102us/step - loss: 0.3322 - accuracy: 0.8653 - val_loss: 0.3572 - val_accuracy: 0.8569\n",
      "Epoch 100/100\n",
      "5359/5359 [==============================] - 1s 107us/step - loss: 0.3323 - accuracy: 0.8630 - val_loss: 0.3564 - val_accuracy: 0.8565\n"
     ]
    }
   ],
   "source": [
    "#fitting the ANN to the training set\n",
    "model_history = classifier.fit(X_train, y_train, validation_split = 0.33, batch_size = 10, nb_epoch = 100)"
   ]
  },
  {
   "cell_type": "code",
   "execution_count": null,
   "metadata": {},
   "outputs": [],
   "source": []
  },
  {
   "cell_type": "code",
   "execution_count": 16,
   "metadata": {},
   "outputs": [
    {
     "name": "stdout",
     "output_type": "stream",
     "text": [
      "dict_keys(['val_loss', 'val_accuracy', 'loss', 'accuracy'])\n"
     ]
    }
   ],
   "source": [
    "#list all data in history\n",
    "print(model_history.history.keys())"
   ]
  },
  {
   "cell_type": "code",
   "execution_count": 17,
   "metadata": {},
   "outputs": [
    {
     "data": {
      "image/png": "[encoded data removed]",
      "text/plain": [
       "<Figure size 432x288 with 1 Axes>"
      ]
     },
     "metadata": {
      "needs_background": "light"
     },
     "output_type": "display_data"
    }
   ],
   "source": [
    "#summarize history for accuracy\n",
    "plt.plot(model_history.history['accuracy'])\n",
    "plt.plot(model_history.history['val_accuracy'])\n",
    "plt.title('Model_Accuracy')\n",
    "plt.ylabel('Accuracy')\n",
    "plt.xlabel('Epoch')\n",
    "plt.legend(['train','test'], loc='upper left')\n",
    "plt.show()"
   ]
  },
  {
   "cell_type": "code",
   "execution_count": 18,
   "metadata": {},
   "outputs": [
    {
     "data": {
      "image/png": "[encoded data removed]",
      "text/plain": [
       "<Figure size 432x288 with 1 Axes>"
      ]
     },
     "metadata": {
      "needs_background": "light"
     },
     "output_type": "display_data"
    }
   ],
   "source": [
    "# summarize history for loss\n",
    "plt.plot(model_history.history['loss'])\n",
    "plt.plot(model_history.history['val_loss'])\n",
    "plt.title('model loss')\n",
    "plt.ylabel('loss')\n",
    "plt.xlabel('epoch')\n",
    "plt.legend(['train', 'test'], loc='upper left')\n",
    "plt.show()"
   ]
  },
  {
   "cell_type": "code",
   "execution_count": null,
   "metadata": {},
   "outputs": [],
   "source": []
  },
  {
   "cell_type": "code",
   "execution_count": 19,
   "metadata": {},
   "outputs": [],
   "source": [
    "# making the predictions and evaluating the model"
   ]
  },
  {
   "cell_type": "code",
   "execution_count": 20,
   "metadata": {},
   "outputs": [],
   "source": [
    "#Predicting the Test set results\n",
    "y_pred = classifier.predict(X_test)\n",
    "y_pred = y_pred > 0.5"
   ]
  },
  {
   "cell_type": "code",
   "execution_count": 21,
   "metadata": {},
   "outputs": [
    {
     "data": {
      "text/plain": [
       "array([[1522,   73],\n",
       "       [ 206,  199]], dtype=int64)"
      ]
     },
     "execution_count": 21,
     "metadata": {},
     "output_type": "execute_result"
    }
   ],
   "source": [
    "# creating the Confusion Matrix\n",
    "from sklearn.metrics import confusion_matrix\n",
    "cm = confusion_matrix(y_test, y_pred)\n",
    "cm"
   ]
  },
  {
   "cell_type": "code",
   "execution_count": 22,
   "metadata": {},
   "outputs": [
    {
     "data": {
      "text/plain": [
       "0.8605"
      ]
     },
     "execution_count": 22,
     "metadata": {},
     "output_type": "execute_result"
    }
   ],
   "source": [
    "# Calculate the Accuracy\n",
    "from sklearn.metrics import accuracy_score\n",
    "score = accuracy_score(y_pred, y_test)\n",
    "score"
   ]
  },
  {
   "cell_type": "code",
   "execution_count": null,
   "metadata": {},
   "outputs": [],
   "source": []
  }
 ],
 "metadata": {
  "kernelspec": {
   "display_name": "Python 3",
   "language": "python",
   "name": "python3"
  },
  "language_info": {
   "codemirror_mode": {
    "name": "ipython",
    "version": 3
   },
   "file_extension": ".py",
   "mimetype": "text/x-python",
   "name": "python",
   "nbconvert_exporter": "python",
   "pygments_lexer": "ipython3",
   "version": "3.7.3"
  }
 },
 "nbformat": 4,
 "nbformat_minor": 2
}
